{
 "cells": [
  {
   "cell_type": "markdown",
   "metadata": {
    "collapsed": true,
    "pycharm": {
     "name": "#%% md\n"
    }
   },
   "source": [
    "# Lab 7 - Logistic Regression\n",
    "## Imports"
   ]
  },
  {
   "cell_type": "code",
   "execution_count": 1,
   "outputs": [],
   "source": [
    "import numpy as np\n",
    "from scipy.optimize import fmin_l_bfgs_b\n",
    "\n",
    "from tiblib.utils import load_iris_binary, load_iris_multiclass, train_test_split\n",
    "from tiblib.classification import LogisticRegression"
   ],
   "metadata": {
    "collapsed": false,
    "pycharm": {
     "name": "#%%\n"
    }
   }
  },
  {
   "cell_type": "markdown",
   "source": [
    "## Numerical optimization"
   ],
   "metadata": {
    "collapsed": false
   }
  },
  {
   "cell_type": "code",
   "execution_count": 2,
   "outputs": [
    {
     "name": "stdout",
     "output_type": "stream",
     "text": [
      "Minimum x: [-2.57747138 -0.99999927] Minimum f: -0.3561430123647649 func calls: 21\n",
      "Minimum x: [-2.57747137 -0.99999927] Minimum f: -0.3561430123647611 func calls: 7\n"
     ]
    }
   ],
   "source": [
    "def func(x):\n",
    "    y, z = x\n",
    "    return (y+3)**2 + np.sin(y) + (z+1)**2\n",
    "\n",
    "def func_d(x):\n",
    "    y, z = x\n",
    "\n",
    "    dy = 2*(y+3) + np.cos(y)\n",
    "    dz = 2*(z+1)\n",
    "    return func(x), np.array([dy,dz])\n",
    "x0 = np.array([0,0])\n",
    "\n",
    "x_min, f_min, d = fmin_l_bfgs_b(func, x0, approx_grad=True)\n",
    "print(f'Minimum x: {x_min} Minimum f: {f_min} func calls: {d[\"funcalls\"]}')\n",
    "x_min, f_min, d = fmin_l_bfgs_b(func_d, x0)\n",
    "print(f'Minimum x: {x_min} Minimum f: {f_min} func calls: {d[\"funcalls\"]}')"
   ],
   "metadata": {
    "collapsed": false,
    "pycharm": {
     "name": "#%%\n"
    }
   }
  },
  {
   "cell_type": "markdown",
   "source": [
    "## Binary Logistic Regression"
   ],
   "metadata": {
    "collapsed": false
   }
  },
  {
   "cell_type": "code",
   "execution_count": 3,
   "outputs": [
    {
     "name": "stdout",
     "output_type": "stream",
     "text": [
      "Error rate: 0.12121212121212122 F min: 0.007498023294107464\n"
     ]
    }
   ],
   "source": [
    "X, y = load_iris_binary()\n",
    "X_train, X_test, y_train, y_test = train_test_split(X, y, test_size=0.33)\n",
    "\n",
    "blr = LogisticRegression(1e-6)\n",
    "blr.fit(X_train,y_train)\n",
    "y_pred = blr.predict(X_test)\n",
    "print(f'Error rate: {1-blr.score(X_test,y_test)} F min: {blr.f_min}')"
   ],
   "metadata": {
    "collapsed": false,
    "pycharm": {
     "name": "#%%\n"
    }
   }
  },
  {
   "cell_type": "markdown",
   "source": [
    "## Multiclass Logistic Regression"
   ],
   "metadata": {
    "collapsed": false
   }
  },
  {
   "cell_type": "code",
   "execution_count": 4,
   "outputs": [
    {
     "name": "stdout",
     "output_type": "stream",
     "text": [
      "Error rate: 0.020000000000000018 F min: 4.999388140498324\n"
     ]
    }
   ],
   "source": [
    "X, y = load_iris_multiclass()\n",
    "X_train, X_test, y_train, y_test = train_test_split(X, y, test_size=0.33)\n",
    "\n",
    "blr = LogisticRegression(1e-6)\n",
    "blr.fit(X_train,y_train)\n",
    "y_pred = blr.predict(X_test)\n",
    "print(f'Error rate: {1-blr.score(X_test,y_test)} F min: {blr.f_min}')"
   ],
   "metadata": {
    "collapsed": false,
    "pycharm": {
     "name": "#%%\n"
    }
   }
  }
 ],
 "metadata": {
  "kernelspec": {
   "name": "pycharm-d2c9f13c",
   "language": "python",
   "display_name": "PyCharm (eurecom-malis)"
  },
  "language_info": {
   "codemirror_mode": {
    "name": "ipython",
    "version": 2
   },
   "file_extension": ".py",
   "mimetype": "text/x-python",
   "name": "python",
   "nbconvert_exporter": "python",
   "pygments_lexer": "ipython2",
   "version": "2.7.6"
  }
 },
 "nbformat": 4,
 "nbformat_minor": 0
}